{
 "cells": [
  {
   "attachments": {},
   "cell_type": "markdown",
   "metadata": {},
   "source": [
    "# Stage 1/5 \n",
    "**Task:** Print the source (raw) markdown code of the markdown snippet below. Show your understanding of the syntax basics. You can use the Markdown Guide as it covers all the necessary topics.\n",
    "\n",
    "![Markdown snippet](images/task_1.png \"Markdown snippet\") "
   ]
  },
  {
   "cell_type": "code",
   "execution_count": null,
   "metadata": {},
   "outputs": [],
   "source": [
    "print('''\n",
    "# John Lennon\n",
    "or ***John Winston Ono Lennon*** was one of *The Beatles.*\n",
    "\n",
    "Here are the songs he wrote I like the most:\n",
    "- Imagine\n",
    "- Norwegian Wood\n",
    "- Come Together\n",
    "- In My Life\n",
    "- ~~Hey Jude~~ (that was *McCartney*)\n",
    "''')"
   ]
  },
  {
   "attachments": {},
   "cell_type": "markdown",
   "metadata": {},
   "source": [
    "# Stage 2/5\n",
    "\n",
    "**Task:** Implement the help function (`!help`) that will print available syntax commands, which we have indicated above, as well as the special commands. When called, it should print the following:\n",
    "\n",
    "```\n",
    "Available formatters: plain bold italic header link inline-code ordered-list unordered-list new-line\n",
    "Special commands: !help !done\n",
    "```\n",
    "\n",
    "Implement the exit function (`!done`) that exits the editor without saving.\n",
    "\n",
    "Ask a user for input: `Choose a formatter`:.\n",
    "\n",
    "- If the input contains one of the correct formatters (plain, bold, italic, etc.), ask for the input once again.\n",
    "- If the input contains no formatters or unknown command is sent, print the following message and ask for input again: `Unknown formatting type or command.`\n",
    "- If the input contains `!help`, print the list of available commands, as shown in the example below. If the input contains `!done`, exit the editor without saving."
   ]
  },
  {
   "cell_type": "code",
   "execution_count": 11,
   "metadata": {},
   "outputs": [],
   "source": [
    "\n",
    "availiable_formatters = [\"plain\", \"bold\", \"italic\", \"header\", \"link\", \"inline-code\", \"ordered-list\", \"unordered-list\", \"new-line\"]\n",
    "\n",
    "while True:\n",
    "    formatter = str(input(\"Choose formatter:\"))\n",
    "    if formatter in availiable_formatters:\n",
    "        continue\n",
    "    elif formatter == \"!help\":\n",
    "        print(\"Available formatters: plain bold italic header link inline-code ordered-list unordered-list new-line\")\n",
    "        print(\"Special commands: !help !done\")\n",
    "    elif formatter == \"!done\":\n",
    "        break\n",
    "    else:\n",
    "        print(\"Unknown formatting type or command\")\n"
   ]
  },
  {
   "cell_type": "code",
   "execution_count": null,
   "metadata": {},
   "outputs": [],
   "source": []
  }
 ],
 "metadata": {
  "kernelspec": {
   "display_name": "Python 3",
   "language": "python",
   "name": "python3"
  },
  "language_info": {
   "codemirror_mode": {
    "name": "ipython",
    "version": 3
   },
   "file_extension": ".py",
   "mimetype": "text/x-python",
   "name": "python",
   "nbconvert_exporter": "python",
   "pygments_lexer": "ipython3",
   "version": "3.8.11"
  },
  "orig_nbformat": 4,
  "vscode": {
   "interpreter": {
    "hash": "b7b05d67afe7bb3fb030861e9f04fca8ff1b0a1031b45815ec9a7b718f0e746f"
   }
  }
 },
 "nbformat": 4,
 "nbformat_minor": 2
}
