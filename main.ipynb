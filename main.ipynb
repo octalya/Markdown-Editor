{
 "cells": [
  {
   "attachments": {},
   "cell_type": "markdown",
   "metadata": {},
   "source": [
    "# Stage 1/5 \n",
    "**Task:** Print the source (raw) markdown code of the markdown snippet below. Show your understanding of the syntax basics. You can use the Markdown Guide as it covers all the necessary topics.\n",
    "\n",
    "![Markdown snippet](images/task_1.png \"Markdown snippet\") "
   ]
  },
  {
   "cell_type": "code",
   "execution_count": 1,
   "metadata": {},
   "outputs": [
    {
     "name": "stdout",
     "output_type": "stream",
     "text": [
      "\n",
      "# John Lennon\n",
      "or ***John Winston Ono Lennon*** was one of *The Beatles.*\n",
      "\n",
      "Here are the songs he wrote I like the most:\n",
      "- Imagine\n",
      "- Norwegian Wood\n",
      "- Come Together\n",
      "- In My Life\n",
      "- ~~Hey Jude~~ (that was *McCartney*)\n",
      "\n"
     ]
    }
   ],
   "source": [
    "print('''\n",
    "# John Lennon\n",
    "or ***John Winston Ono Lennon*** was one of *The Beatles.*\n",
    "\n",
    "Here are the songs he wrote I like the most:\n",
    "- Imagine\n",
    "- Norwegian Wood\n",
    "- Come Together\n",
    "- In My Life\n",
    "- ~~Hey Jude~~ (that was *McCartney*)\n",
    "''')"
   ]
  },
  {
   "attachments": {},
   "cell_type": "markdown",
   "metadata": {},
   "source": [
    "# Stage 2/5\n",
    "\n",
    "**Task:** Implement the help function (`!help`) that will print available syntax commands, which we have indicated above, as well as the special commands. When called, it should print the following:\n",
    "\n",
    "```\n",
    "Available formatters: plain bold italic header link inline-code ordered-list unordered-list new-line\n",
    "Special commands: !help !done\n",
    "```\n",
    "\n",
    "Implement the exit function (`!done`) that exits the editor without saving.\n",
    "\n",
    "Ask a user for input: `Choose a formatter`:.\n",
    "\n",
    "- If the input contains one of the correct formatters (plain, bold, italic, etc.), ask for the input once again.\n",
    "- If the input contains no formatters or unknown command is sent, print the following message and ask for input again: `Unknown formatting type or command.`\n",
    "- If the input contains `!help`, print the list of available commands, as shown in the example below. If the input contains `!done`, exit the editor without saving."
   ]
  },
  {
   "cell_type": "code",
   "execution_count": 11,
   "metadata": {},
   "outputs": [],
   "source": [
    "\n",
    "availiable_formatters = [\"plain\", \"bold\", \"italic\", \"header\", \"link\", \"inline-code\", \"ordered-list\", \"unordered-list\", \"new-line\"]\n",
    "\n",
    "while True:\n",
    "    formatter = str(input(\"Choose formatter:\"))\n",
    "    if formatter in availiable_formatters:\n",
    "        continue\n",
    "    elif formatter == \"!help\":\n",
    "        print(\"Available formatters: plain bold italic header link inline-code ordered-list unordered-list new-line\")\n",
    "        print(\"Special commands: !help !done\")\n",
    "    elif formatter == \"!done\":\n",
    "        break\n",
    "    else:\n",
    "        print(\"Unknown formatting type or command\")\n"
   ]
  },
  {
   "attachments": {},
   "cell_type": "markdown",
   "metadata": {},
   "source": [
    "# Stage 3/5 \n",
    "**Task:** Implement a separate function for each of the formatters. It will keep your code structured. With functions, you will also be able to find and fix a bug with ease if something is wrong.\n",
    "\n",
    "The program should work in the following way:\n",
    "\n",
    "Ask a user to input a formatter.\n",
    "If the formatter doesn't exist, print the following error message: `Unknown formatting type or command`.\n",
    "Ask a user to input a text that will be applied to the formatter: `Text: <user's input>`.\n",
    "Save the text with the chosen formatter applied to it and print the markdown. Each time you should print out the whole text in markdown accumulated so far."
   ]
  },
  {
   "cell_type": "code",
   "execution_count": 20,
   "metadata": {},
   "outputs": [
    {
     "name": "stdout",
     "output_type": "stream",
     "text": [
      "\n",
      "####jlkjl\n",
      "Unknown formatting type or command\n",
      "\n",
      "####jlkjl\n"
     ]
    }
   ],
   "source": [
    "only_text_formatters = [\"plain\", \"bold\", \"italic\", \"inline-code\"]\n",
    "prev_output = \"\"\n",
    "\n",
    "def text_markdown(formatter):\n",
    "\n",
    "    global prev_output\n",
    "\n",
    "    text = str(input(\"Text:\"))\n",
    "    if formatter == \"plain\":\n",
    "        prev_output+=text\n",
    "    elif formatter == \"bold\":\n",
    "        prev_output = prev_output + \"**\" + text + \"**\"\n",
    "    elif formatter == \"italic\":\n",
    "        prev_output = prev_output + \"*\" + text + \"*\"\n",
    "    elif formatter == \"inline-code\":\n",
    "        prev_output = prev_output + \"`\" + text + \"`\"\n",
    "\n",
    "def header_markdown(formatter):\n",
    "    \n",
    "    global prev_output\n",
    "\n",
    "    level = int(input(\"Level:\"))\n",
    "\n",
    "    if level in range(1,7):\n",
    "        text = str(input(\"Text:\"))\n",
    "        prev_output = prev_output + level*\"#\" + \" \" + text + \"\\n\"\n",
    "    else:\n",
    "        print(\"The level should be within the range of 1 to 6\")\n",
    "        header_markdown(formatter)\n",
    "\n",
    "def link_markdown(formatter):\n",
    "\n",
    "    global prev_output\n",
    "    label = str(input(\"Label:\"))\n",
    "    url = str(input(\"URL:\"))\n",
    "    prev_output = prev_output + \"[\" + label + \"]\" + \"(\" + url + \")\"\n",
    "\n",
    "def new_line_markdown(formatter):\n",
    "\n",
    "    global prev_output \n",
    "\n",
    "    prev_output = prev_output + \"\\n\"\n",
    "\n",
    "while True:\n",
    "\n",
    "    formatter = str(input(\"Choose a formatter:\"))\n",
    "\n",
    "    if formatter in only_text_formatters:\n",
    "        text_markdown(formatter)\n",
    "    elif formatter == \"header\":\n",
    "        header_markdown(formatter)\n",
    "    elif formatter == \"link\":\n",
    "        link_markdown(formatter)\n",
    "    elif formatter == \"new-line\":\n",
    "        new_line_markdown(formatter)\n",
    "    elif formatter == \"!done\":\n",
    "        break\n",
    "    else:\n",
    "        print(\"Unknown formatting type or command\")\n",
    "\n",
    "    print(prev_output)\n",
    "\n",
    "\n"
   ]
  }
 ],
 "metadata": {
  "kernelspec": {
   "display_name": "Python 3",
   "language": "python",
   "name": "python3"
  },
  "language_info": {
   "codemirror_mode": {
    "name": "ipython",
    "version": 3
   },
   "file_extension": ".py",
   "mimetype": "text/x-python",
   "name": "python",
   "nbconvert_exporter": "python",
   "pygments_lexer": "ipython3",
   "version": "3.8.11"
  },
  "orig_nbformat": 4,
  "vscode": {
   "interpreter": {
    "hash": "b7b05d67afe7bb3fb030861e9f04fca8ff1b0a1031b45815ec9a7b718f0e746f"
   }
  }
 },
 "nbformat": 4,
 "nbformat_minor": 2
}
